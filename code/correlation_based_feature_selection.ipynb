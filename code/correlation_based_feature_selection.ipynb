{
 "cells": [
  {
   "cell_type": "code",
   "execution_count": 1,
   "metadata": {
    "collapsed": true
   },
   "outputs": [],
   "source": [
    "import MDP_function as mf\n",
    "import numpy as np \n",
    "import pandas as pd\n",
    "import seaborn as sns\n",
    "import matplotlib.pylab as plt\n",
    "import scipy.stats as stats\n",
    "import random as rnd\n",
    "%matplotlib inline"
   ]
  },
  {
   "cell_type": "code",
   "execution_count": 2,
   "metadata": {
    "collapsed": true
   },
   "outputs": [],
   "source": [
    "# read in all original data set\n",
    "data_file = \"MDP_Original_data.csv\"\n",
    "original_data = pd.read_csv(data_file)"
   ]
  },
  {
   "cell_type": "code",
   "execution_count": 3,
   "metadata": {
    "collapsed": false
   },
   "outputs": [
    {
     "data": {
      "text/plain": [
       "['student',\n",
       " 'currProb',\n",
       " 'course',\n",
       " 'session',\n",
       " 'priorTutorAction',\n",
       " 'reward',\n",
       " 'Interaction',\n",
       " 'hintCount',\n",
       " 'TotalTime',\n",
       " 'TotalPSTime',\n",
       " 'TotalWETime',\n",
       " 'avgstepTime',\n",
       " 'avgstepTimePS',\n",
       " 'stepTimeDeviation',\n",
       " 'symbolicRepresentationCount',\n",
       " 'englishSymbolicSwitchCount',\n",
       " 'Level',\n",
       " 'probDiff',\n",
       " 'difficultProblemCountSolved',\n",
       " 'difficultProblemCountWE',\n",
       " 'easyProblemCountSolved',\n",
       " 'easyProblemCountWE',\n",
       " 'probAlternate',\n",
       " 'easyProbAlternate',\n",
       " 'RuleTypesCount',\n",
       " 'UseCount',\n",
       " 'PrepCount',\n",
       " 'MorphCount',\n",
       " 'OptionalCount',\n",
       " 'NewLevel',\n",
       " 'SolvedPSInLevel',\n",
       " 'SeenWEinLevel',\n",
       " 'probIndexinLevel',\n",
       " 'probIndexPSinLevel',\n",
       " 'InterfaceErrorCount',\n",
       " 'RightApp',\n",
       " 'WrongApp',\n",
       " 'WrongSemanticsApp',\n",
       " 'WrongSyntaxApp',\n",
       " 'PrightAppRatio',\n",
       " 'RrightAppRatio',\n",
       " 'F1Score',\n",
       " 'FDActionCount',\n",
       " 'BDActionCount',\n",
       " 'DirectProofActionCount',\n",
       " 'InDirectProofActionCount',\n",
       " 'actionCount',\n",
       " 'UseWindowInfo',\n",
       " 'NonPSelements',\n",
       " 'AppCount',\n",
       " 'AppRatio',\n",
       " 'hintRatio',\n",
       " 'BlankRatio',\n",
       " 'HoverHintCount',\n",
       " 'SystemInfoHintCount',\n",
       " 'NextStepClickCountWE',\n",
       " 'PreviousStepClickCountWE',\n",
       " 'deletedApp',\n",
       " 'ruleScoreMP',\n",
       " 'ruleScoreDS',\n",
       " 'ruleScoreSIMP',\n",
       " 'ruleScoreMT',\n",
       " 'ruleScoreADD',\n",
       " 'ruleScoreCONJ',\n",
       " 'ruleScoreHS',\n",
       " 'ruleScoreCD',\n",
       " 'ruleScoreDN',\n",
       " 'ruleScoreDEM',\n",
       " 'ruleScoreIMPL',\n",
       " 'ruleScoreCONTRA',\n",
       " 'ruleScoreEQUIV',\n",
       " 'ruleScoreCOM',\n",
       " 'ruleScoreASSOC',\n",
       " 'ruleScoreDIST',\n",
       " 'ruleScoreABS',\n",
       " 'ruleScoreEXP',\n",
       " 'ruleScoreTAUT',\n",
       " 'cumul_Interaction',\n",
       " 'cumul_hintCount',\n",
       " 'cumul_TotalTime',\n",
       " 'cumul_TotalPSTime',\n",
       " 'cumul_TotalWETime',\n",
       " 'cumul_avgstepTime',\n",
       " 'cumul_avgstepTimeWE',\n",
       " 'cumul_avgstepTimePS',\n",
       " 'cumul_symbolicRepresentationCount',\n",
       " 'cumul_englishSymbolicSwitchCount',\n",
       " 'cumul_difficultProblemCountSolved',\n",
       " 'cumul_difficultProblemCountWE',\n",
       " 'cumul_easyProblemCountSolved',\n",
       " 'cumul_easyProblemCountWE',\n",
       " 'cumul_probAlternate',\n",
       " 'cumul_easyProbAlternate',\n",
       " 'cumul_RuleTypesCount',\n",
       " 'cumul_UseCount',\n",
       " 'cumul_PrepCount',\n",
       " 'cumul_MorphCount',\n",
       " 'cumul_OptionalCount',\n",
       " 'cumul_probIndexinLevel',\n",
       " 'cumul_InterfaceErrorCount',\n",
       " 'cumul_RightApp',\n",
       " 'cumul_WrongApp',\n",
       " 'cumul_WrongSemanticsApp',\n",
       " 'cumul_WrongSyntaxApp',\n",
       " 'cumul_PrightAppRatio',\n",
       " 'cumul_RrightAppRatio',\n",
       " 'cumul_F1Score',\n",
       " 'cumul_FDActionCount',\n",
       " 'cumul_BDActionCount',\n",
       " 'cumul_DirectProofActionCount',\n",
       " 'cumul_InDirectProofActionCount',\n",
       " 'cumul_actionCount',\n",
       " 'cumul_UseWindowInfo',\n",
       " 'cumul_NonPSelements',\n",
       " 'cumul_AppCount',\n",
       " 'cumul_AppRatio',\n",
       " 'cumul_hintRatio',\n",
       " 'cumul_BlankRatio',\n",
       " 'cumul_HoverHintCount',\n",
       " 'cumul_SystemInfoHintCount',\n",
       " 'cumul_NextStepClickCountWE',\n",
       " 'cumul_PreviousStepClickCountWE',\n",
       " 'cumul_deletedApp',\n",
       " 'CurrPro_NumProbRule',\n",
       " 'CurrPro_avgProbTime',\n",
       " 'CurrPro_avgProbTimePS',\n",
       " 'CurrPro_avgProbTimeDeviationPS',\n",
       " 'CurrPro_avgProbTimeWE',\n",
       " 'CurrPro_avgProbTimeDeviationWE',\n",
       " 'CurrPro_medianProbTime']"
      ]
     },
     "execution_count": 3,
     "metadata": {},
     "output_type": "execute_result"
    }
   ],
   "source": [
    "# get names of all columns in original dataset\n",
    "original_data.columns.tolist()"
   ]
  },
  {
   "cell_type": "code",
   "execution_count": 4,
   "metadata": {
    "collapsed": false
   },
   "outputs": [
    {
     "name": "stdout",
     "output_type": "stream",
     "text": [
      "['Interaction', 'hintCount', 'TotalTime', 'TotalPSTime', 'TotalWETime', 'avgstepTime', 'avgstepTimePS', 'stepTimeDeviation', 'symbolicRepresentationCount', 'englishSymbolicSwitchCount', 'Level', 'probDiff', 'difficultProblemCountSolved', 'difficultProblemCountWE', 'easyProblemCountSolved', 'easyProblemCountWE', 'probAlternate', 'easyProbAlternate', 'RuleTypesCount', 'UseCount', 'PrepCount', 'MorphCount', 'OptionalCount', 'NewLevel', 'SolvedPSInLevel', 'SeenWEinLevel', 'probIndexinLevel', 'probIndexPSinLevel', 'InterfaceErrorCount', 'RightApp', 'WrongApp', 'WrongSemanticsApp', 'WrongSyntaxApp', 'PrightAppRatio', 'RrightAppRatio', 'F1Score', 'FDActionCount', 'BDActionCount', 'DirectProofActionCount', 'InDirectProofActionCount', 'actionCount', 'UseWindowInfo', 'NonPSelements', 'AppCount', 'AppRatio', 'hintRatio', 'BlankRatio', 'HoverHintCount', 'SystemInfoHintCount', 'NextStepClickCountWE', 'PreviousStepClickCountWE', 'deletedApp', 'ruleScoreMP', 'ruleScoreDS', 'ruleScoreSIMP', 'ruleScoreMT', 'ruleScoreADD', 'ruleScoreCONJ', 'ruleScoreHS', 'ruleScoreCD', 'ruleScoreDN', 'ruleScoreDEM', 'ruleScoreIMPL', 'ruleScoreCONTRA', 'ruleScoreEQUIV', 'ruleScoreCOM', 'ruleScoreASSOC', 'ruleScoreDIST', 'ruleScoreABS', 'ruleScoreEXP', 'ruleScoreTAUT', 'cumul_Interaction', 'cumul_hintCount', 'cumul_TotalTime', 'cumul_TotalPSTime', 'cumul_TotalWETime', 'cumul_avgstepTime', 'cumul_avgstepTimeWE', 'cumul_avgstepTimePS', 'cumul_symbolicRepresentationCount', 'cumul_englishSymbolicSwitchCount', 'cumul_difficultProblemCountSolved', 'cumul_difficultProblemCountWE', 'cumul_easyProblemCountSolved', 'cumul_easyProblemCountWE', 'cumul_probAlternate', 'cumul_easyProbAlternate', 'cumul_RuleTypesCount', 'cumul_UseCount', 'cumul_PrepCount', 'cumul_MorphCount', 'cumul_OptionalCount', 'cumul_probIndexinLevel', 'cumul_InterfaceErrorCount', 'cumul_RightApp', 'cumul_WrongApp', 'cumul_WrongSemanticsApp', 'cumul_WrongSyntaxApp', 'cumul_PrightAppRatio', 'cumul_RrightAppRatio', 'cumul_F1Score', 'cumul_FDActionCount', 'cumul_BDActionCount', 'cumul_DirectProofActionCount', 'cumul_InDirectProofActionCount', 'cumul_actionCount', 'cumul_UseWindowInfo', 'cumul_NonPSelements', 'cumul_AppCount', 'cumul_AppRatio', 'cumul_hintRatio', 'cumul_BlankRatio', 'cumul_HoverHintCount', 'cumul_SystemInfoHintCount', 'cumul_NextStepClickCountWE', 'cumul_PreviousStepClickCountWE', 'cumul_deletedApp', 'CurrPro_NumProbRule', 'CurrPro_avgProbTime', 'CurrPro_avgProbTimePS', 'CurrPro_avgProbTimeDeviationPS', 'CurrPro_avgProbTimeWE', 'CurrPro_avgProbTimeDeviationWE', 'CurrPro_medianProbTime']\n"
     ]
    }
   ],
   "source": [
    "# select all features from the original dataset and get features names as feature space indexes\n",
    "feature_data = original_data.loc[:, 'Interaction':'CurrPro_medianProbTime']\n",
    "feature_space = feature_data.columns.tolist()\n",
    "print feature_space"
   ]
  },
  {
   "cell_type": "code",
   "execution_count": 5,
   "metadata": {
    "collapsed": true
   },
   "outputs": [],
   "source": [
    "# initialize parameters and data structures for correlation-based feature selection algorithm\n",
    "MAX_NUM_OF_FEATURES = 2\n",
    "ECR_list = list()\n",
    "optimal_feature_set = list()"
   ]
  },
  {
   "cell_type": "code",
   "execution_count": 6,
   "metadata": {
    "collapsed": true
   },
   "outputs": [],
   "source": [
    "def feature_discretization(feature_data, maxLevel=10): \n",
    "    # discretize continuous feature values into integers of no more than max levels\n",
    "    isFloat = any(map(lambda x: isinstance(x, float), feature_data)) # check if it contain float type\n",
    "    if not isFloat:\n",
    "        isOverLevel = len(feature_data.unique())>maxLevel # check if it is within max levels\n",
    "    if isFloat or isOverLevel: # discretize and reduce levels using median\n",
    "        median = feature_data.median()\n",
    "        feature_vals = map(lambda x: 0 if x<=median else 1, feature_data)\n",
    "        feature_data = pd.Series(feature_vals, dtype=int)\n",
    "    return feature_data"
   ]
  },
  {
   "cell_type": "code",
   "execution_count": 7,
   "metadata": {
    "collapsed": false
   },
   "outputs": [
    {
     "data": {
      "text/html": [
       "<div>\n",
       "<table border=\"1\" class=\"dataframe\">\n",
       "  <thead>\n",
       "    <tr style=\"text-align: right;\">\n",
       "      <th></th>\n",
       "      <th>session</th>\n",
       "      <th>reward</th>\n",
       "      <th>Interaction</th>\n",
       "      <th>hintCount</th>\n",
       "      <th>TotalTime</th>\n",
       "      <th>TotalPSTime</th>\n",
       "      <th>TotalWETime</th>\n",
       "      <th>avgstepTime</th>\n",
       "      <th>avgstepTimePS</th>\n",
       "      <th>stepTimeDeviation</th>\n",
       "      <th>...</th>\n",
       "      <th>cumul_NextStepClickCountWE</th>\n",
       "      <th>cumul_PreviousStepClickCountWE</th>\n",
       "      <th>cumul_deletedApp</th>\n",
       "      <th>CurrPro_NumProbRule</th>\n",
       "      <th>CurrPro_avgProbTime</th>\n",
       "      <th>CurrPro_avgProbTimePS</th>\n",
       "      <th>CurrPro_avgProbTimeDeviationPS</th>\n",
       "      <th>CurrPro_avgProbTimeWE</th>\n",
       "      <th>CurrPro_avgProbTimeDeviationWE</th>\n",
       "      <th>CurrPro_medianProbTime</th>\n",
       "    </tr>\n",
       "  </thead>\n",
       "  <tbody>\n",
       "    <tr>\n",
       "      <th>count</th>\n",
       "      <td>4396.000000</td>\n",
       "      <td>4396.000000</td>\n",
       "      <td>4396.000000</td>\n",
       "      <td>4396.000000</td>\n",
       "      <td>4396.000000</td>\n",
       "      <td>4396.000000</td>\n",
       "      <td>4396.000000</td>\n",
       "      <td>4396.000000</td>\n",
       "      <td>4396.000000</td>\n",
       "      <td>4396.000000</td>\n",
       "      <td>...</td>\n",
       "      <td>4396.000000</td>\n",
       "      <td>4396.000000</td>\n",
       "      <td>4396.000000</td>\n",
       "      <td>4396.000000</td>\n",
       "      <td>4396.000000</td>\n",
       "      <td>4396.000000</td>\n",
       "      <td>4396.000000</td>\n",
       "      <td>4396.000000</td>\n",
       "      <td>4396.000000</td>\n",
       "      <td>4396.000000</td>\n",
       "    </tr>\n",
       "    <tr>\n",
       "      <th>mean</th>\n",
       "      <td>2.872611</td>\n",
       "      <td>-0.357487</td>\n",
       "      <td>0.493631</td>\n",
       "      <td>0.199955</td>\n",
       "      <td>0.500000</td>\n",
       "      <td>0.500000</td>\n",
       "      <td>0.318926</td>\n",
       "      <td>0.500000</td>\n",
       "      <td>0.203822</td>\n",
       "      <td>0.351911</td>\n",
       "      <td>...</td>\n",
       "      <td>0.421747</td>\n",
       "      <td>0.197452</td>\n",
       "      <td>0.453822</td>\n",
       "      <td>0.424704</td>\n",
       "      <td>0.476115</td>\n",
       "      <td>0.495905</td>\n",
       "      <td>0.494313</td>\n",
       "      <td>0.491811</td>\n",
       "      <td>0.468835</td>\n",
       "      <td>0.475205</td>\n",
       "    </tr>\n",
       "    <tr>\n",
       "      <th>std</th>\n",
       "      <td>2.514063</td>\n",
       "      <td>34.131956</td>\n",
       "      <td>0.500016</td>\n",
       "      <td>0.400011</td>\n",
       "      <td>0.500057</td>\n",
       "      <td>0.500057</td>\n",
       "      <td>0.466113</td>\n",
       "      <td>0.500057</td>\n",
       "      <td>0.402884</td>\n",
       "      <td>0.477621</td>\n",
       "      <td>...</td>\n",
       "      <td>0.493895</td>\n",
       "      <td>0.398122</td>\n",
       "      <td>0.497920</td>\n",
       "      <td>0.494354</td>\n",
       "      <td>0.499486</td>\n",
       "      <td>0.500040</td>\n",
       "      <td>0.500025</td>\n",
       "      <td>0.499990</td>\n",
       "      <td>0.499085</td>\n",
       "      <td>0.499442</td>\n",
       "    </tr>\n",
       "    <tr>\n",
       "      <th>min</th>\n",
       "      <td>1.000000</td>\n",
       "      <td>-305.714286</td>\n",
       "      <td>0.000000</td>\n",
       "      <td>0.000000</td>\n",
       "      <td>0.000000</td>\n",
       "      <td>0.000000</td>\n",
       "      <td>0.000000</td>\n",
       "      <td>0.000000</td>\n",
       "      <td>0.000000</td>\n",
       "      <td>0.000000</td>\n",
       "      <td>...</td>\n",
       "      <td>0.000000</td>\n",
       "      <td>0.000000</td>\n",
       "      <td>0.000000</td>\n",
       "      <td>0.000000</td>\n",
       "      <td>0.000000</td>\n",
       "      <td>0.000000</td>\n",
       "      <td>0.000000</td>\n",
       "      <td>0.000000</td>\n",
       "      <td>0.000000</td>\n",
       "      <td>0.000000</td>\n",
       "    </tr>\n",
       "    <tr>\n",
       "      <th>25%</th>\n",
       "      <td>1.000000</td>\n",
       "      <td>0.000000</td>\n",
       "      <td>0.000000</td>\n",
       "      <td>0.000000</td>\n",
       "      <td>0.000000</td>\n",
       "      <td>0.000000</td>\n",
       "      <td>0.000000</td>\n",
       "      <td>0.000000</td>\n",
       "      <td>0.000000</td>\n",
       "      <td>0.000000</td>\n",
       "      <td>...</td>\n",
       "      <td>0.000000</td>\n",
       "      <td>0.000000</td>\n",
       "      <td>0.000000</td>\n",
       "      <td>0.000000</td>\n",
       "      <td>0.000000</td>\n",
       "      <td>0.000000</td>\n",
       "      <td>0.000000</td>\n",
       "      <td>0.000000</td>\n",
       "      <td>0.000000</td>\n",
       "      <td>0.000000</td>\n",
       "    </tr>\n",
       "    <tr>\n",
       "      <th>50%</th>\n",
       "      <td>2.000000</td>\n",
       "      <td>0.000000</td>\n",
       "      <td>0.000000</td>\n",
       "      <td>0.000000</td>\n",
       "      <td>0.500000</td>\n",
       "      <td>0.500000</td>\n",
       "      <td>0.000000</td>\n",
       "      <td>0.500000</td>\n",
       "      <td>0.000000</td>\n",
       "      <td>0.000000</td>\n",
       "      <td>...</td>\n",
       "      <td>0.000000</td>\n",
       "      <td>0.000000</td>\n",
       "      <td>0.000000</td>\n",
       "      <td>0.000000</td>\n",
       "      <td>0.000000</td>\n",
       "      <td>0.000000</td>\n",
       "      <td>0.000000</td>\n",
       "      <td>0.000000</td>\n",
       "      <td>0.000000</td>\n",
       "      <td>0.000000</td>\n",
       "    </tr>\n",
       "    <tr>\n",
       "      <th>75%</th>\n",
       "      <td>4.000000</td>\n",
       "      <td>0.000000</td>\n",
       "      <td>1.000000</td>\n",
       "      <td>0.000000</td>\n",
       "      <td>1.000000</td>\n",
       "      <td>1.000000</td>\n",
       "      <td>1.000000</td>\n",
       "      <td>1.000000</td>\n",
       "      <td>0.000000</td>\n",
       "      <td>1.000000</td>\n",
       "      <td>...</td>\n",
       "      <td>1.000000</td>\n",
       "      <td>0.000000</td>\n",
       "      <td>1.000000</td>\n",
       "      <td>1.000000</td>\n",
       "      <td>1.000000</td>\n",
       "      <td>1.000000</td>\n",
       "      <td>1.000000</td>\n",
       "      <td>1.000000</td>\n",
       "      <td>1.000000</td>\n",
       "      <td>1.000000</td>\n",
       "    </tr>\n",
       "    <tr>\n",
       "      <th>max</th>\n",
       "      <td>19.000000</td>\n",
       "      <td>200.000000</td>\n",
       "      <td>1.000000</td>\n",
       "      <td>1.000000</td>\n",
       "      <td>1.000000</td>\n",
       "      <td>1.000000</td>\n",
       "      <td>1.000000</td>\n",
       "      <td>1.000000</td>\n",
       "      <td>1.000000</td>\n",
       "      <td>1.000000</td>\n",
       "      <td>...</td>\n",
       "      <td>1.000000</td>\n",
       "      <td>1.000000</td>\n",
       "      <td>1.000000</td>\n",
       "      <td>1.000000</td>\n",
       "      <td>1.000000</td>\n",
       "      <td>1.000000</td>\n",
       "      <td>1.000000</td>\n",
       "      <td>1.000000</td>\n",
       "      <td>1.000000</td>\n",
       "      <td>1.000000</td>\n",
       "    </tr>\n",
       "  </tbody>\n",
       "</table>\n",
       "<p>8 rows × 126 columns</p>\n",
       "</div>"
      ],
      "text/plain": [
       "           session       reward  Interaction    hintCount    TotalTime  \\\n",
       "count  4396.000000  4396.000000  4396.000000  4396.000000  4396.000000   \n",
       "mean      2.872611    -0.357487     0.493631     0.199955     0.500000   \n",
       "std       2.514063    34.131956     0.500016     0.400011     0.500057   \n",
       "min       1.000000  -305.714286     0.000000     0.000000     0.000000   \n",
       "25%       1.000000     0.000000     0.000000     0.000000     0.000000   \n",
       "50%       2.000000     0.000000     0.000000     0.000000     0.500000   \n",
       "75%       4.000000     0.000000     1.000000     0.000000     1.000000   \n",
       "max      19.000000   200.000000     1.000000     1.000000     1.000000   \n",
       "\n",
       "       TotalPSTime  TotalWETime  avgstepTime  avgstepTimePS  \\\n",
       "count  4396.000000  4396.000000  4396.000000    4396.000000   \n",
       "mean      0.500000     0.318926     0.500000       0.203822   \n",
       "std       0.500057     0.466113     0.500057       0.402884   \n",
       "min       0.000000     0.000000     0.000000       0.000000   \n",
       "25%       0.000000     0.000000     0.000000       0.000000   \n",
       "50%       0.500000     0.000000     0.500000       0.000000   \n",
       "75%       1.000000     1.000000     1.000000       0.000000   \n",
       "max       1.000000     1.000000     1.000000       1.000000   \n",
       "\n",
       "       stepTimeDeviation           ...            cumul_NextStepClickCountWE  \\\n",
       "count        4396.000000           ...                           4396.000000   \n",
       "mean            0.351911           ...                              0.421747   \n",
       "std             0.477621           ...                              0.493895   \n",
       "min             0.000000           ...                              0.000000   \n",
       "25%             0.000000           ...                              0.000000   \n",
       "50%             0.000000           ...                              0.000000   \n",
       "75%             1.000000           ...                              1.000000   \n",
       "max             1.000000           ...                              1.000000   \n",
       "\n",
       "       cumul_PreviousStepClickCountWE  cumul_deletedApp  CurrPro_NumProbRule  \\\n",
       "count                     4396.000000       4396.000000          4396.000000   \n",
       "mean                         0.197452          0.453822             0.424704   \n",
       "std                          0.398122          0.497920             0.494354   \n",
       "min                          0.000000          0.000000             0.000000   \n",
       "25%                          0.000000          0.000000             0.000000   \n",
       "50%                          0.000000          0.000000             0.000000   \n",
       "75%                          0.000000          1.000000             1.000000   \n",
       "max                          1.000000          1.000000             1.000000   \n",
       "\n",
       "       CurrPro_avgProbTime  CurrPro_avgProbTimePS  \\\n",
       "count          4396.000000            4396.000000   \n",
       "mean              0.476115               0.495905   \n",
       "std               0.499486               0.500040   \n",
       "min               0.000000               0.000000   \n",
       "25%               0.000000               0.000000   \n",
       "50%               0.000000               0.000000   \n",
       "75%               1.000000               1.000000   \n",
       "max               1.000000               1.000000   \n",
       "\n",
       "       CurrPro_avgProbTimeDeviationPS  CurrPro_avgProbTimeWE  \\\n",
       "count                     4396.000000            4396.000000   \n",
       "mean                         0.494313               0.491811   \n",
       "std                          0.500025               0.499990   \n",
       "min                          0.000000               0.000000   \n",
       "25%                          0.000000               0.000000   \n",
       "50%                          0.000000               0.000000   \n",
       "75%                          1.000000               1.000000   \n",
       "max                          1.000000               1.000000   \n",
       "\n",
       "       CurrPro_avgProbTimeDeviationWE  CurrPro_medianProbTime  \n",
       "count                     4396.000000             4396.000000  \n",
       "mean                         0.468835                0.475205  \n",
       "std                          0.499085                0.499442  \n",
       "min                          0.000000                0.000000  \n",
       "25%                          0.000000                0.000000  \n",
       "50%                          0.000000                0.000000  \n",
       "75%                          1.000000                1.000000  \n",
       "max                          1.000000                1.000000  \n",
       "\n",
       "[8 rows x 126 columns]"
      ]
     },
     "execution_count": 7,
     "metadata": {},
     "output_type": "execute_result"
    }
   ],
   "source": [
    "# discretization feature values by median\n",
    "all_data_discretized = original_data.loc[:, \"student\":\"reward\"]\n",
    "for i, ft in enumerate(feature_space):\n",
    "    ft_data = original_data.loc[:, ft]\n",
    "    all_data_discretized[ft] = feature_discretization(ft_data)\n",
    "all_data_discretized.describe()"
   ]
  },
  {
   "cell_type": "code",
   "execution_count": 8,
   "metadata": {
    "collapsed": false
   },
   "outputs": [
    {
     "name": "stdout",
     "output_type": "stream",
     "text": [
      "[0.86239839583987621, 0.68601588332982288, 0.82512603395470419, 3.1078311846207813, 9.6752234066668095, 0.38084556096440481, 0.90448896681597413, 0.0, 0.0, 0.0, 3.9820569642858041, 0.0, 27.495904195466874, 16.881755706664304, 3.0313199185550719, 0.0, 1.3036139603639174, 1.3036139603639174, 0.0, 0.39974947264589067, 2.8473124450876739, 0.0, 1.6271295216631378, 0.0, 0.0, 10.177936326858347, 24.886652411147228, 9.2373172826207117, 0.20207066883902353, 0.0, 4.6822168974818279, 3.5457651945044271, 4.6865060409625823, 0.58680892494288417, 0.037998665510776734, 1.263903559175775, 1.8610273161470614, 0.0, 0.90456747959581352, 0.0, 1.8609505317973556, 0.0, 0.0, 0.77852573237224587, 0.0, 0.81249222916645758, 0.0, 0.88290329496840891, 0.0, 10.173464801031713, 1.6260057021458632, 0.0, 3.0667556841179247, 2.5467379811527131, 0.0032785153328480673, 0.0, 0.0, 6.9231378481716392, 6.6803934627589197, 3.6557811292624907, 5.8312445115843889, 0.0, 2.8348540537288511, 0.0, 2.6476628433014393, 1.6277065438776863, 2.2512243260361577, 2.7859802686862953, 1.5326093644503791, 2.1416390223560331, 1.6664982008840861, 9.4719370101479203, 8.1724217773443222, 11.130430011884378, 9.0480897005356802, 0.45191345636180053, 0.0, 6.379086604753315, 0.0, 17.179488766743887, 4.4122864587647488, 10.524264256866262, 3.4136356079267705, 10.218180532195657, 0.0, 1.3036139603639174, 1.3036139603639174, 8.2792178663110114, 8.4996210980646598, 8.6674684418808106, 4.0292732855290163, 8.2520536617064177, 24.886652411147228, 7.8125833790105812, 6.3827400898425264, 6.0763212586590516, 7.3548807470937199, 7.733003822040641, 3.0129638663912353, 1.7966660514812558, 3.3090995445569664, 8.7277445780955087, 1.3573865250075239, 9.6669494948938794, 0.89121349287395935, 8.6851481644525581, 0.3888602772771384, 11.985239462637102, 7.7670929081253695, 3.1341186946406201, 8.1711694929376133, 2.9821014316282386, 2.9004369638638106, 4.8122425906468269, 2.2769720103194553, 0.3591703088849334, 3.7605578714404881, 15.110518593947297, 0.6857835315763875, 0.063876763616402668, 1.3199326815401466, 12.391947628070733, 9.4479347849488793, 3.0005676909743726]\n"
     ]
    },
    {
     "name": "stderr",
     "output_type": "stream",
     "text": [
      "/Users/Jerry/anaconda/lib/python2.7/site-packages/pandas/core/indexing.py:477: SettingWithCopyWarning: \n",
      "A value is trying to be set on a copy of a slice from a DataFrame.\n",
      "Try using .loc[row_indexer,col_indexer] = value instead\n",
      "\n",
      "See the caveats in the documentation: http://pandas.pydata.org/pandas-docs/stable/indexing.html#indexing-view-versus-copy\n",
      "  self.obj[item] = s\n"
     ]
    }
   ],
   "source": [
    "# initialization to find the best feature with max ECR\n",
    "for i, ft in enumerate(feature_space):\n",
    "    #print i\n",
    "    selected_feature = [ft]\n",
    "    # try:\n",
    "    ECR_list.append(mf.compute_ECR(all_data_discretized, selected_feature))\n",
    "#     except:\n",
    "#         ECR_list.append(0.0)\n",
    "print ECR_list"
   ]
  },
  {
   "cell_type": "code",
   "execution_count": 9,
   "metadata": {
    "collapsed": false
   },
   "outputs": [
    {
     "name": "stdout",
     "output_type": "stream",
     "text": [
      "['difficultProblemCountSolved']\n"
     ]
    }
   ],
   "source": [
    "optimal_feature_set.append(feature_space[ECR_list.index(max(ECR_list))])\n",
    "print(optimal_feature_set)"
   ]
  },
  {
   "cell_type": "code",
   "execution_count": 10,
   "metadata": {
    "collapsed": false
   },
   "outputs": [
    {
     "data": {
      "text/plain": [
       "27.495904195466874"
      ]
     },
     "execution_count": 10,
     "metadata": {},
     "output_type": "execute_result"
    }
   ],
   "source": [
    "max(ECR_list)"
   ]
  },
  {
   "cell_type": "code",
   "execution_count": 11,
   "metadata": {
    "collapsed": true
   },
   "outputs": [],
   "source": [
    "def compute_correlation(dataset, feature_set, feature):\n",
    "#     corr_sum = 0\n",
    "#     for ft in feature_set:\n",
    "#         corr, p_val = stats.pearsonr(dataset[ft], dataset[feature])\n",
    "#         corr_sum += corr\n",
    "#     return corr_sum\n",
    "    return rnd.random()"
   ]
  },
  {
   "cell_type": "code",
   "execution_count": 12,
   "metadata": {
    "collapsed": false
   },
   "outputs": [
    {
     "name": "stdout",
     "output_type": "stream",
     "text": [
      "[['BlankRatio', 3.0005676909743726]]\n",
      "[['BlankRatio', 3.0005676909743726], ['NextStepClickCountWE', 3.0005676909743726]]\n",
      "[['BlankRatio', 3.0005676909743726], ['NextStepClickCountWE', 3.0005676909743726], ['TotalWETime', 3.0005676909743726]]\n",
      "[['BlankRatio', 3.0005676909743726], ['NextStepClickCountWE', 3.0005676909743726], ['TotalWETime', 3.0005676909743726], ['SeenWEinLevel', 3.0005676909743726]]\n",
      "[['BlankRatio', 3.0005676909743726], ['NextStepClickCountWE', 3.0005676909743726], ['TotalWETime', 3.0005676909743726], ['SeenWEinLevel', 3.0005676909743726], ['ruleScoreTAUT', 3.0005676909743726]]\n",
      "['BlankRatio', 3.0005676909743726]\n"
     ]
    },
    {
     "name": "stderr",
     "output_type": "stream",
     "text": [
      "/Users/Jerry/anaconda/lib/python2.7/site-packages/scipy/stats/stats.py:3028: RuntimeWarning: invalid value encountered in double_scalars\n",
      "  r = r_num / r_den\n"
     ]
    }
   ],
   "source": [
    "# feature selection iterations\n",
    "while (len(optimal_feature_set) < MAX_NUM_OF_FEATURES):\n",
    "    #print len(optimal_feature_set)\n",
    "    corr_list = list()\n",
    "    remain_feature_space = list(set(feature_space) - set(optimal_feature_set))\n",
    "    for i,ft in enumerate(remain_feature_space):\n",
    "        corr_list.append([ft, compute_correlation(all_data_discretized, optimal_feature_set, ft)])\n",
    "    topK = 5\n",
    "    top_features = map(lambda x: x[0], sorted(corr_list, key=lambda x: x[1], reverse=False)[:topK])\n",
    "    ECR_list = list()\n",
    "    for i, ft in enumerate(top_features):\n",
    "        select_feature = list(optimal_feature_set)\n",
    "        select_feature.append(ft)\n",
    "        ECR_list.append([ft, mf.compute_ECR(all_data_discretized, selected_feature)])\n",
    "        print ECR_list\n",
    "    best_next_feature_and_ECR = sorted(ECR_list, key=lambda x: x[1], reverse=True)[0]\n",
    "    best_next_feature, bestECR = best_next_feature_and_ECR[0], best_next_feature_and_ECR[1]\n",
    "    optimal_feature_set.append(best_next_feature)\n",
    "    print best_next_feature_and_ECR"
   ]
  },
  {
   "cell_type": "code",
   "execution_count": 13,
   "metadata": {
    "collapsed": false
   },
   "outputs": [
    {
     "data": {
      "text/plain": [
       "['difficultProblemCountSolved', 'BlankRatio']"
      ]
     },
     "execution_count": 13,
     "metadata": {},
     "output_type": "execute_result"
    }
   ],
   "source": [
    "optimal_feature_set"
   ]
  },
  {
   "cell_type": "code",
   "execution_count": 15,
   "metadata": {
    "collapsed": false
   },
   "outputs": [
    {
     "name": "stdout",
     "output_type": "stream",
     "text": [
      "Policy: \n",
      "state -> action, value-function\n",
      "0:1 -> PS, 34.2742383682\n",
      "0:0 -> WE, 29.8142209888\n",
      "1:0 -> PS, 51.1421557847\n",
      "1:1 -> PS, 67.1592115291\n",
      "ECR value: 33.4743439469\n"
     ]
    },
    {
     "data": {
      "text/plain": [
       "33.474343946852628"
      ]
     },
     "execution_count": 15,
     "metadata": {},
     "output_type": "execute_result"
    }
   ],
   "source": [
    "mf.induce_policy_MDP2(all_data_discretized, optimal_feature_set)"
   ]
  },
  {
   "cell_type": "code",
   "execution_count": null,
   "metadata": {
    "collapsed": true
   },
   "outputs": [],
   "source": []
  }
 ],
 "metadata": {
  "kernelspec": {
   "display_name": "Python 2",
   "language": "python",
   "name": "python2"
  },
  "language_info": {
   "codemirror_mode": {
    "name": "ipython",
    "version": 2
   },
   "file_extension": ".py",
   "mimetype": "text/x-python",
   "name": "python",
   "nbconvert_exporter": "python",
   "pygments_lexer": "ipython2",
   "version": "2.7.13"
  }
 },
 "nbformat": 4,
 "nbformat_minor": 0
}
