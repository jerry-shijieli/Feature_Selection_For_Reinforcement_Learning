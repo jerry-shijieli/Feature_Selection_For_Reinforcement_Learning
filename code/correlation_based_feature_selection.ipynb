{
 "cells": [
  {
   "cell_type": "code",
   "execution_count": 1,
   "metadata": {
    "collapsed": true
   },
   "outputs": [],
   "source": [
    "import MDP_function as mf\n",
    "import numpy as np \n",
    "import pandas as pd\n",
    "import seaborn as sns\n",
    "import matplotlib.pylab as plt\n",
    "import scipy.stats as stats\n",
    "import random as rnd\n",
    "%matplotlib inline"
   ]
  },
  {
   "cell_type": "code",
   "execution_count": 2,
   "metadata": {
    "collapsed": true
   },
   "outputs": [],
   "source": [
    "# read in all original data set\n",
    "data_file = \"MDP_Original_data.csv\"\n",
    "original_data = pd.read_csv(data_file)"
   ]
  },
  {
   "cell_type": "code",
   "execution_count": 3,
   "metadata": {
    "collapsed": false
   },
   "outputs": [],
   "source": [
    "# get names of all columns in original dataset\n",
    "#original_data.columns.tolist()"
   ]
  },
  {
   "cell_type": "code",
   "execution_count": 4,
   "metadata": {
    "collapsed": false
   },
   "outputs": [],
   "source": [
    "# select all features from the original dataset and get features names as feature space indexes\n",
    "feature_data = original_data.loc[:, 'Interaction':'CurrPro_medianProbTime']\n",
    "feature_space = feature_data.columns.tolist()\n",
    "#print feature_space"
   ]
  },
  {
   "cell_type": "code",
   "execution_count": 5,
   "metadata": {
    "collapsed": true
   },
   "outputs": [],
   "source": [
    "# initialize parameters and data structures for correlation-based feature selection algorithm\n",
    "MAX_NUM_OF_FEATURES = 8\n",
    "ECR_list = list()\n",
    "optimal_feature_set = list()"
   ]
  },
  {
   "cell_type": "code",
   "execution_count": 6,
   "metadata": {
    "collapsed": true
   },
   "outputs": [],
   "source": [
    "def feature_discretization(feature_data, maxLevel=2): \n",
    "    # discretize continuous feature values into integers of no more than max levels\n",
    "    isFloat = any(map(lambda x: isinstance(x, float), feature_data)) # check if it contain float type\n",
    "    if not isFloat:\n",
    "        isOverLevel = len(feature_data.unique())>maxLevel # check if it is within max levels\n",
    "    if isFloat or isOverLevel: # discretize and reduce levels using median\n",
    "        median = feature_data.median()\n",
    "        feature_vals = map(lambda x: 0 if x<=median else 1, feature_data)\n",
    "        feature_data = pd.Series(feature_vals, dtype=int)\n",
    "    return feature_data"
   ]
  },
  {
   "cell_type": "code",
   "execution_count": 7,
   "metadata": {
    "collapsed": false
   },
   "outputs": [],
   "source": [
    "# discretization feature values by median\n",
    "all_data_discretized = original_data.loc[:, \"student\":\"reward\"]\n",
    "for i, ft in enumerate(feature_space):\n",
    "    ft_data = original_data.loc[:, ft]\n",
    "    all_data_discretized[ft] = feature_discretization(ft_data)\n",
    "#all_data_discretized.describe()"
   ]
  },
  {
   "cell_type": "code",
   "execution_count": 8,
   "metadata": {
    "collapsed": false
   },
   "outputs": [
    {
     "name": "stderr",
     "output_type": "stream",
     "text": [
      "/Users/Jerry/anaconda/lib/python2.7/site-packages/pandas/core/indexing.py:477: SettingWithCopyWarning: \n",
      "A value is trying to be set on a copy of a slice from a DataFrame.\n",
      "Try using .loc[row_indexer,col_indexer] = value instead\n",
      "\n",
      "See the caveats in the documentation: http://pandas.pydata.org/pandas-docs/stable/indexing.html#indexing-view-versus-copy\n",
      "  self.obj[item] = s\n"
     ]
    }
   ],
   "source": [
    "# initialization to find the best feature with max ECR\n",
    "for i, ft in enumerate(feature_space):\n",
    "    #print i\n",
    "    selected_feature = [ft]\n",
    "    try:\n",
    "        ECR_list.append(mf.compute_ECR(all_data_discretized, selected_feature))\n",
    "    #ECR_list.append(mf.induce_policy_MDP2(all_data_discretized, selected_feature))\n",
    "    except:\n",
    "        ECR_list.append(0.0)\n",
    "#print ECR_list"
   ]
  },
  {
   "cell_type": "code",
   "execution_count": 9,
   "metadata": {
    "collapsed": false
   },
   "outputs": [
    {
     "name": "stdout",
     "output_type": "stream",
     "text": [
      "['difficultProblemCountSolved']\n"
     ]
    }
   ],
   "source": [
    "optimal_feature_set.append(feature_space[ECR_list.index(max(ECR_list))])\n",
    "print(optimal_feature_set)"
   ]
  },
  {
   "cell_type": "code",
   "execution_count": 10,
   "metadata": {
    "collapsed": false
   },
   "outputs": [
    {
     "data": {
      "text/plain": [
       "27.495904195466874"
      ]
     },
     "execution_count": 10,
     "metadata": {},
     "output_type": "execute_result"
    }
   ],
   "source": [
    "max(ECR_list)"
   ]
  },
  {
   "cell_type": "code",
   "execution_count": 11,
   "metadata": {
    "collapsed": false
   },
   "outputs": [],
   "source": [
    "#mf.compute_ECR(all_data_discretized, optimal_feature_set)"
   ]
  },
  {
   "cell_type": "code",
   "execution_count": 12,
   "metadata": {
    "collapsed": true
   },
   "outputs": [],
   "source": [
    "def compute_correlation(dataset, feature_set, feature):\n",
    "    corr_sum = 0\n",
    "    for ft in feature_set:\n",
    "        corr, p_val = stats.pearsonr(dataset[ft], dataset[feature])\n",
    "        corr_sum += corr\n",
    "    return corr_sum"
   ]
  },
  {
   "cell_type": "code",
   "execution_count": 13,
   "metadata": {
    "collapsed": false
   },
   "outputs": [
    {
     "name": "stdout",
     "output_type": "stream",
     "text": [
      "Candidate feature: BlankRatio --> ECR value:33.4743439469\n",
      "Candidate feature: NextStepClickCountWE --> ECR value:39.7668341704\n",
      "Candidate feature: cumul_easyProblemCountSolved --> ECR value:56.5619449309\n",
      "Candidate feature: easyProblemCountSolved --> ECR value:39.8183677068\n",
      "Candidate feature: cumul_SystemInfoHintCount --> ECR value:48.5516326293\n",
      "Candidate feature: cumul_englishSymbolicSwitchCount --> ECR value:51.3223758798\n",
      "Candidate feature: CurrPro_medianProbTime --> ECR value:45.830173095\n",
      "Candidate feature: CurrPro_avgProbTime --> ECR value:55.4164742851\n",
      "Candidate feature: Level --> ECR value:60.482117616\n",
      "Candidate feature: difficultProblemCountWE --> ECR value:46.346391793\n",
      "Candidate feature: CurrPro_avgProbTimeWE --> ECR value:40.1419223844\n",
      "Candidate feature: CurrPro_avgProbTimeDeviationWE --> ECR value:48.4229954448\n",
      "Candidate feature: cumul_symbolicRepresentationCount --> ECR value:46.4716826879\n",
      "Candidate feature: probIndexinLevel --> ECR value:44.8321828239\n"
     ]
    },
    {
     "name": "stderr",
     "output_type": "stream",
     "text": [
      "/Users/Jerry/anaconda/lib/python2.7/site-packages/scipy/stats/stats.py:3028: RuntimeWarning: invalid value encountered in double_scalars\n",
      "  r = r_num / r_den\n"
     ]
    }
   ],
   "source": [
    "# feature selection iterations\n",
    "while (len(optimal_feature_set) < MAX_NUM_OF_FEATURES):\n",
    "    #print len(optimal_feature_set)\n",
    "    corr_list = list()\n",
    "    remain_feature_space = list(set(feature_space) - set(optimal_feature_set))\n",
    "    for i,ft in enumerate(remain_feature_space):\n",
    "        corr_list.append([ft, compute_correlation(all_data_discretized, optimal_feature_set, ft)])\n",
    "    topK = 2\n",
    "    top_features = map(lambda x: x[0], sorted(corr_list, key=lambda x: x[1], reverse=False)[:topK])\n",
    "    ECR_list = list()\n",
    "    for ft in top_features:\n",
    "        selected_feature = list(optimal_feature_set)\n",
    "        selected_feature.append(ft)\n",
    "        ECR_with_ft_added = mf.compute_ECR(all_data_discretized, selected_feature)\n",
    "        #ECR_with_ft_added = mf.induce_policy_MDP2(all_data_discretized, select_feature) #debug\n",
    "        print \"Candidate feature: \"+ ft +\" --> ECR value:\"+ str(ECR_with_ft_added)\n",
    "        ECR_list.append([ft, ECR_with_ft_added])\n",
    "        #print ECR_list\n",
    "    best_next_feature_and_ECR = sorted(ECR_list, key=lambda x: x[1], reverse=True)[0]\n",
    "    best_next_feature, bestECR = best_next_feature_and_ECR[0], best_next_feature_and_ECR[1]\n",
    "    optimal_feature_set.append(best_next_feature)\n",
    "    #print best_next_feature_and_ECR"
   ]
  },
  {
   "cell_type": "code",
   "execution_count": 14,
   "metadata": {
    "collapsed": false
   },
   "outputs": [
    {
     "data": {
      "text/plain": [
       "['difficultProblemCountSolved',\n",
       " 'NextStepClickCountWE',\n",
       " 'cumul_easyProblemCountSolved',\n",
       " 'cumul_englishSymbolicSwitchCount',\n",
       " 'CurrPro_avgProbTime',\n",
       " 'Level',\n",
       " 'CurrPro_avgProbTimeDeviationWE',\n",
       " 'cumul_symbolicRepresentationCount']"
      ]
     },
     "execution_count": 14,
     "metadata": {},
     "output_type": "execute_result"
    }
   ],
   "source": [
    "optimal_feature_set"
   ]
  },
  {
   "cell_type": "code",
   "execution_count": 15,
   "metadata": {
    "collapsed": false
   },
   "outputs": [
    {
     "name": "stdout",
     "output_type": "stream",
     "text": [
      "Policy: \n",
      "state -> action, value-function\n",
      "0:1:0:0:1:0:1:0 -> PS, 52.4616738778\n",
      "0:1:0:0:0:0:1:0 -> PS, 56.5044187532\n",
      "0:1:0:0:1:0:1:1 -> PS, 26.4918464521\n",
      "0:0:0:0:1:0:0:1 -> WE, 46.6360401318\n",
      "1:0:0:0:1:0:0:1 -> PS, 54.8589414807\n",
      "0:0:1:0:1:0:0:0 -> PS, 48.8754235743\n",
      "0:0:1:0:0:0:0:1 -> WE, 54.3071011174\n",
      "1:0:0:0:0:1:1:0 -> PS, 72.6326422387\n",
      "0:1:0:0:1:1:1:0 -> PS, 64.7792934451\n",
      "1:0:0:0:1:1:0:1 -> PS, 73.1838590003\n",
      "1:0:0:0:0:1:0:0 -> PS, 87.6746485439\n",
      "0:1:0:0:0:1:1:0 -> PS, 68.9349697427\n",
      "0:1:0:0:0:1:0:0 -> PS, 61.9126419239\n",
      "0:1:0:1:1:0:1:0 -> WE, 36.7823726553\n",
      "0:1:0:1:0:0:1:0 -> PS, 40.8703921014\n",
      "0:0:0:1:1:0:1:0 -> WE, 39.609617492\n",
      "0:0:0:1:1:0:0:0 -> WE, 47.7371727013\n",
      "1:0:0:0:1:1:1:0 -> PS, 103.099190796\n",
      "0:0:0:0:1:0:1:1 -> WE, 47.214530969\n",
      "1:0:0:0:1:0:1:0 -> PS, 63.6765967543\n",
      "1:0:0:0:0:0:1:0 -> PS, 70.7528544752\n",
      "0:0:0:0:1:1:1:0 -> PS, 52.1574427016\n",
      "1:0:0:0:1:1:1:1 -> PS, 78.9062223644\n",
      "0:0:0:0:0:0:1:0 -> PS, 47.2312192585\n",
      "0:1:0:0:1:0:0:0 -> PS, 49.2841921128\n",
      "0:0:0:0:0:1:1:0 -> WE, 57.8913413655\n",
      "1:1:0:0:0:1:0:0 -> PS, 72.2947770926\n",
      "0:0:0:0:1:0:1:0 -> WE, 50.662859274\n",
      "0:0:1:0:1:0:1:0 -> PS, 43.9869118974\n",
      "0:1:1:0:1:0:0:0 -> PS, 46.7343357499\n",
      "0:0:0:0:0:1:0:0 -> WE, 62.040514529\n",
      "0:0:1:0:0:1:0:1 -> WE, 57.3153180605\n",
      "0:1:1:0:0:1:0:1 -> PS, 39.7312540345\n",
      "0:0:0:0:1:1:0:1 -> PS, 45.9879580457\n",
      "0:0:1:0:0:1:1:1 -> WE, 62.040514529\n",
      "0:0:0:0:0:1:0:1 -> PS, 33.0006653202\n",
      "1:0:1:0:0:1:0:1 -> WE, 0.0\n",
      "1:1:0:0:1:0:1:0 -> WE, 50.8530029263\n",
      "0:0:0:0:0:0:1:1 -> PS, 43.126311656\n",
      "0:0:0:1:1:0:0:1 -> PS, 49.6197846048\n",
      "1:0:0:1:1:0:1:0 -> WE, 36.7823726553\n",
      "1:0:0:1:1:0:0:0 -> WE, 54.627522749\n",
      "1:0:0:0:1:1:0:0 -> WE, 62.040514529\n",
      "0:0:1:0:0:1:1:0 -> WE, 46.4236068326\n",
      "0:1:1:0:0:1:0:0 -> PS, 51.5828394406\n",
      "0:0:0:1:0:0:1:0 -> PS, 33.2450340655\n",
      "1:0:0:1:0:1:1:0 -> WE, 102.682697471\n",
      "0:1:0:1:0:1:0:0 -> PS, 114.092955804\n",
      "1:0:0:1:1:1:0:0 -> PS, 63.6869063871\n",
      "0:1:1:0:0:0:0:1 -> PS, 42.4121708574\n",
      "0:0:0:0:0:0:0:1 -> WE, 43.9869118974\n",
      "0:0:1:1:1:0:1:1 -> PS, 29.5273987138\n",
      "0:0:1:1:0:0:0:1 -> WE, 56.0451711931\n",
      "1:0:0:1:0:0:1:0 -> PS, 68.0948491558\n",
      "1:0:0:0:0:1:0:1 -> WE, 62.040514529\n",
      "0:0:1:0:0:0:1:1 -> WE, 47.214530969\n",
      "0:0:0:0:1:0:0:0 -> PS, 44.8488903725\n",
      "0:0:1:1:0:0:0:0 -> WE, 68.7149738799\n",
      "0:1:1:1:0:0:0:0 -> PS, 91.1831738385\n",
      "0:0:1:0:0:1:0:0 -> PS, 47.983373859\n",
      "1:0:0:0:1:0:1:1 -> PS, 59.7190434794\n",
      "0:0:1:0:1:0:1:1 -> PS, 8.99614283162\n",
      "0:0:0:1:1:1:1:0 -> PS, 57.3172548736\n",
      "1:0:0:1:1:1:1:0 -> WE, 55.7204216336\n",
      "0:0:1:0:0:0:1:0 -> PS, 43.9869118974\n",
      "0:0:1:1:0:1:0:1 -> WE, 0.0\n",
      "1:0:1:1:0:1:0:1 -> WE, 0.0\n",
      "1:0:0:0:0:1:1:1 -> WE, 118.580670801\n",
      "0:1:0:0:1:1:1:1 -> PS, 131.757369957\n",
      "0:0:1:0:1:1:0:1 -> PS, 34.1896102713\n",
      "0:0:1:0:1:0:0:1 -> WE, 38.1699844522\n",
      "1:0:0:0:0:0:1:1 -> PS, 53.4668949097\n",
      "0:0:1:1:1:0:1:0 -> PS, 49.1208331495\n",
      "1:1:0:0:0:1:1:0 -> WE, 57.0104149886\n",
      "1:0:0:1:0:1:0:0 -> PS, 138.775467099\n",
      "0:0:0:0:0:1:1:1 -> PS, 40.6412724982\n",
      "0:0:0:1:0:0:0:1 -> PS, 48.0373374976\n",
      "0:0:1:1:1:0:0:1 -> WE, 47.214530969\n",
      "0:0:0:1:0:0:1:1 -> PS, 43.9197036215\n",
      "0:1:0:0:0:0:0:1 -> PS, 48.8754235743\n",
      "0:0:1:0:0:0:0:0 -> WE, 43.9869118974\n",
      "0:1:1:0:1:0:0:1 -> PS, 48.8754235743\n",
      "0:0:0:0:1:1:0:0 -> WE, 26.7288400225\n",
      "0:1:0:0:0:1:0:1 -> PS, 29.6997055558\n",
      "0:0:0:1:1:1:0:0 -> PS, 33.5808618962\n",
      "0:0:0:1:0:1:0:0 -> PS, 46.1623000457\n",
      "0:0:1:1:0:1:0:0 -> WE, 55.7204216336\n",
      "0:0:0:1:1:0:1:1 -> PS, 48.7748409474\n",
      "0:0:0:1:0:0:0:0 -> PS, 47.5689275601\n",
      "0:0:0:1:0:1:0:1 -> WE, 0.0\n",
      "0:0:1:1:1:0:0:0 -> PS, 43.3893406218\n",
      "0:0:1:0:1:1:0:0 -> WE, 35.7573222667\n",
      "1:0:0:1:0:0:1:1 -> PS, 45.5955974113\n",
      "0:0:1:1:0:0:1:0 -> PS, 61.8425144985\n",
      "0:0:1:1:1:1:0:1 -> WE, 0.0\n",
      "0:0:0:1:1:1:0:1 -> WE, 0.0\n",
      "1:0:1:1:0:1:0:0 -> WE, 0.0\n",
      "ECR value: 46.4716826879\n"
     ]
    },
    {
     "data": {
      "text/plain": [
       "46.47168268789509"
      ]
     },
     "execution_count": 15,
     "metadata": {},
     "output_type": "execute_result"
    }
   ],
   "source": [
    "mf.induce_policy_MDP2(all_data_discretized, optimal_feature_set)"
   ]
  },
  {
   "cell_type": "code",
   "execution_count": 16,
   "metadata": {
    "collapsed": false
   },
   "outputs": [],
   "source": [
    "#mf.compute_ECR(all_data_discretized, optimal_feature_set)"
   ]
  },
  {
   "cell_type": "code",
   "execution_count": 17,
   "metadata": {
    "collapsed": false
   },
   "outputs": [],
   "source": [
    "#mf.compute_ECR(all_data_discretized, ['difficultProblemCountSolved', 'InterfaceErrorCount'])"
   ]
  },
  {
   "cell_type": "code",
   "execution_count": null,
   "metadata": {
    "collapsed": true
   },
   "outputs": [],
   "source": []
  }
 ],
 "metadata": {
  "kernelspec": {
   "display_name": "Python 2",
   "language": "python",
   "name": "python2"
  },
  "language_info": {
   "codemirror_mode": {
    "name": "ipython",
    "version": 2
   },
   "file_extension": ".py",
   "mimetype": "text/x-python",
   "name": "python",
   "nbconvert_exporter": "python",
   "pygments_lexer": "ipython2",
   "version": "2.7.13"
  }
 },
 "nbformat": 4,
 "nbformat_minor": 0
}
