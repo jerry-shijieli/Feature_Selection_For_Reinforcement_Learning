{
 "cells": [
  {
   "cell_type": "code",
   "execution_count": 1,
   "metadata": {
    "collapsed": true
   },
   "outputs": [],
   "source": [
    "import MDP_function as mf\n",
    "import numpy as np \n",
    "import pandas as pd\n",
    "import seaborn as sns\n",
    "import matplotlib.pylab as plt\n",
    "%matplotlib inline"
   ]
  },
  {
   "cell_type": "code",
   "execution_count": 2,
   "metadata": {
    "collapsed": true
   },
   "outputs": [],
   "source": [
    "# read in all original data set\n",
    "data_file = \"MDP_Original_data.csv\"\n",
    "original_data = pd.read_csv(data_file)"
   ]
  },
  {
   "cell_type": "code",
   "execution_count": 4,
   "metadata": {
    "collapsed": false
   },
   "outputs": [
    {
     "data": {
      "text/plain": [
       "['student',\n",
       " 'currProb',\n",
       " 'course',\n",
       " 'session',\n",
       " 'priorTutorAction',\n",
       " 'reward',\n",
       " 'Interaction',\n",
       " 'hintCount',\n",
       " 'TotalTime',\n",
       " 'TotalPSTime',\n",
       " 'TotalWETime',\n",
       " 'avgstepTime',\n",
       " 'avgstepTimePS',\n",
       " 'stepTimeDeviation',\n",
       " 'symbolicRepresentationCount',\n",
       " 'englishSymbolicSwitchCount',\n",
       " 'Level',\n",
       " 'probDiff',\n",
       " 'difficultProblemCountSolved',\n",
       " 'difficultProblemCountWE',\n",
       " 'easyProblemCountSolved',\n",
       " 'easyProblemCountWE',\n",
       " 'probAlternate',\n",
       " 'easyProbAlternate',\n",
       " 'RuleTypesCount',\n",
       " 'UseCount',\n",
       " 'PrepCount',\n",
       " 'MorphCount',\n",
       " 'OptionalCount',\n",
       " 'NewLevel',\n",
       " 'SolvedPSInLevel',\n",
       " 'SeenWEinLevel',\n",
       " 'probIndexinLevel',\n",
       " 'probIndexPSinLevel',\n",
       " 'InterfaceErrorCount',\n",
       " 'RightApp',\n",
       " 'WrongApp',\n",
       " 'WrongSemanticsApp',\n",
       " 'WrongSyntaxApp',\n",
       " 'PrightAppRatio',\n",
       " 'RrightAppRatio',\n",
       " 'F1Score',\n",
       " 'FDActionCount',\n",
       " 'BDActionCount',\n",
       " 'DirectProofActionCount',\n",
       " 'InDirectProofActionCount',\n",
       " 'actionCount',\n",
       " 'UseWindowInfo',\n",
       " 'NonPSelements',\n",
       " 'AppCount',\n",
       " 'AppRatio',\n",
       " 'hintRatio',\n",
       " 'BlankRatio',\n",
       " 'HoverHintCount',\n",
       " 'SystemInfoHintCount',\n",
       " 'NextStepClickCountWE',\n",
       " 'PreviousStepClickCountWE',\n",
       " 'deletedApp',\n",
       " 'ruleScoreMP',\n",
       " 'ruleScoreDS',\n",
       " 'ruleScoreSIMP',\n",
       " 'ruleScoreMT',\n",
       " 'ruleScoreADD',\n",
       " 'ruleScoreCONJ',\n",
       " 'ruleScoreHS',\n",
       " 'ruleScoreCD',\n",
       " 'ruleScoreDN',\n",
       " 'ruleScoreDEM',\n",
       " 'ruleScoreIMPL',\n",
       " 'ruleScoreCONTRA',\n",
       " 'ruleScoreEQUIV',\n",
       " 'ruleScoreCOM',\n",
       " 'ruleScoreASSOC',\n",
       " 'ruleScoreDIST',\n",
       " 'ruleScoreABS',\n",
       " 'ruleScoreEXP',\n",
       " 'ruleScoreTAUT',\n",
       " 'cumul_Interaction',\n",
       " 'cumul_hintCount',\n",
       " 'cumul_TotalTime',\n",
       " 'cumul_TotalPSTime',\n",
       " 'cumul_TotalWETime',\n",
       " 'cumul_avgstepTime',\n",
       " 'cumul_avgstepTimeWE',\n",
       " 'cumul_avgstepTimePS',\n",
       " 'cumul_symbolicRepresentationCount',\n",
       " 'cumul_englishSymbolicSwitchCount',\n",
       " 'cumul_difficultProblemCountSolved',\n",
       " 'cumul_difficultProblemCountWE',\n",
       " 'cumul_easyProblemCountSolved',\n",
       " 'cumul_easyProblemCountWE',\n",
       " 'cumul_probAlternate',\n",
       " 'cumul_easyProbAlternate',\n",
       " 'cumul_RuleTypesCount',\n",
       " 'cumul_UseCount',\n",
       " 'cumul_PrepCount',\n",
       " 'cumul_MorphCount',\n",
       " 'cumul_OptionalCount',\n",
       " 'cumul_probIndexinLevel',\n",
       " 'cumul_InterfaceErrorCount',\n",
       " 'cumul_RightApp',\n",
       " 'cumul_WrongApp',\n",
       " 'cumul_WrongSemanticsApp',\n",
       " 'cumul_WrongSyntaxApp',\n",
       " 'cumul_PrightAppRatio',\n",
       " 'cumul_RrightAppRatio',\n",
       " 'cumul_F1Score',\n",
       " 'cumul_FDActionCount',\n",
       " 'cumul_BDActionCount',\n",
       " 'cumul_DirectProofActionCount',\n",
       " 'cumul_InDirectProofActionCount',\n",
       " 'cumul_actionCount',\n",
       " 'cumul_UseWindowInfo',\n",
       " 'cumul_NonPSelements',\n",
       " 'cumul_AppCount',\n",
       " 'cumul_AppRatio',\n",
       " 'cumul_hintRatio',\n",
       " 'cumul_BlankRatio',\n",
       " 'cumul_HoverHintCount',\n",
       " 'cumul_SystemInfoHintCount',\n",
       " 'cumul_NextStepClickCountWE',\n",
       " 'cumul_PreviousStepClickCountWE',\n",
       " 'cumul_deletedApp',\n",
       " 'CurrPro_NumProbRule',\n",
       " 'CurrPro_avgProbTime',\n",
       " 'CurrPro_avgProbTimePS',\n",
       " 'CurrPro_avgProbTimeDeviationPS',\n",
       " 'CurrPro_avgProbTimeWE',\n",
       " 'CurrPro_avgProbTimeDeviationWE',\n",
       " 'CurrPro_medianProbTime']"
      ]
     },
     "execution_count": 4,
     "metadata": {},
     "output_type": "execute_result"
    }
   ],
   "source": [
    "# get names of all columns in original dataset\n",
    "original_data.columns.tolist()"
   ]
  },
  {
   "cell_type": "code",
   "execution_count": 6,
   "metadata": {
    "collapsed": false
   },
   "outputs": [
    {
     "name": "stdout",
     "output_type": "stream",
     "text": [
      "['Interaction', 'hintCount', 'TotalTime', 'TotalPSTime', 'TotalWETime', 'avgstepTime', 'avgstepTimePS', 'stepTimeDeviation', 'symbolicRepresentationCount', 'englishSymbolicSwitchCount', 'Level', 'probDiff', 'difficultProblemCountSolved', 'difficultProblemCountWE', 'easyProblemCountSolved', 'easyProblemCountWE', 'probAlternate', 'easyProbAlternate', 'RuleTypesCount', 'UseCount', 'PrepCount', 'MorphCount', 'OptionalCount', 'NewLevel', 'SolvedPSInLevel', 'SeenWEinLevel', 'probIndexinLevel', 'probIndexPSinLevel', 'InterfaceErrorCount', 'RightApp', 'WrongApp', 'WrongSemanticsApp', 'WrongSyntaxApp', 'PrightAppRatio', 'RrightAppRatio', 'F1Score', 'FDActionCount', 'BDActionCount', 'DirectProofActionCount', 'InDirectProofActionCount', 'actionCount', 'UseWindowInfo', 'NonPSelements', 'AppCount', 'AppRatio', 'hintRatio', 'BlankRatio', 'HoverHintCount', 'SystemInfoHintCount', 'NextStepClickCountWE', 'PreviousStepClickCountWE', 'deletedApp', 'ruleScoreMP', 'ruleScoreDS', 'ruleScoreSIMP', 'ruleScoreMT', 'ruleScoreADD', 'ruleScoreCONJ', 'ruleScoreHS', 'ruleScoreCD', 'ruleScoreDN', 'ruleScoreDEM', 'ruleScoreIMPL', 'ruleScoreCONTRA', 'ruleScoreEQUIV', 'ruleScoreCOM', 'ruleScoreASSOC', 'ruleScoreDIST', 'ruleScoreABS', 'ruleScoreEXP', 'ruleScoreTAUT', 'cumul_Interaction', 'cumul_hintCount', 'cumul_TotalTime', 'cumul_TotalPSTime', 'cumul_TotalWETime', 'cumul_avgstepTime', 'cumul_avgstepTimeWE', 'cumul_avgstepTimePS', 'cumul_symbolicRepresentationCount', 'cumul_englishSymbolicSwitchCount', 'cumul_difficultProblemCountSolved', 'cumul_difficultProblemCountWE', 'cumul_easyProblemCountSolved', 'cumul_easyProblemCountWE', 'cumul_probAlternate', 'cumul_easyProbAlternate', 'cumul_RuleTypesCount', 'cumul_UseCount', 'cumul_PrepCount', 'cumul_MorphCount', 'cumul_OptionalCount', 'cumul_probIndexinLevel', 'cumul_InterfaceErrorCount', 'cumul_RightApp', 'cumul_WrongApp', 'cumul_WrongSemanticsApp', 'cumul_WrongSyntaxApp', 'cumul_PrightAppRatio', 'cumul_RrightAppRatio', 'cumul_F1Score', 'cumul_FDActionCount', 'cumul_BDActionCount', 'cumul_DirectProofActionCount', 'cumul_InDirectProofActionCount', 'cumul_actionCount', 'cumul_UseWindowInfo', 'cumul_NonPSelements', 'cumul_AppCount', 'cumul_AppRatio', 'cumul_hintRatio', 'cumul_BlankRatio', 'cumul_HoverHintCount', 'cumul_SystemInfoHintCount', 'cumul_NextStepClickCountWE', 'cumul_PreviousStepClickCountWE', 'cumul_deletedApp', 'CurrPro_NumProbRule', 'CurrPro_avgProbTime', 'CurrPro_avgProbTimePS', 'CurrPro_avgProbTimeDeviationPS', 'CurrPro_avgProbTimeWE', 'CurrPro_avgProbTimeDeviationWE', 'CurrPro_medianProbTime']\n"
     ]
    }
   ],
   "source": [
    "# select all features from the original dataset and get features names as feature space indexes\n",
    "feature_data = original_data.loc[:, 'Interaction':'CurrPro_medianProbTime']\n",
    "feature_space = feature_data.columns.tolist()\n",
    "print feature_space"
   ]
  },
  {
   "cell_type": "code",
   "execution_count": null,
   "metadata": {
    "collapsed": true
   },
   "outputs": [],
   "source": [
    "# initialize parameters for correlation-based feature selection algorithm"
   ]
  }
 ],
 "metadata": {
  "kernelspec": {
   "display_name": "Python 2",
   "language": "python",
   "name": "python2"
  },
  "language_info": {
   "codemirror_mode": {
    "name": "ipython",
    "version": 2
   },
   "file_extension": ".py",
   "mimetype": "text/x-python",
   "name": "python",
   "nbconvert_exporter": "python",
   "pygments_lexer": "ipython2",
   "version": "2.7.13"
  }
 },
 "nbformat": 4,
 "nbformat_minor": 0
}
